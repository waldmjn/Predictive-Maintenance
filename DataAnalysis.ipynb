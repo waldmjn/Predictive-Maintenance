{
 "cells": [
  {
   "cell_type": "markdown",
   "metadata": {},
   "source": [
    "## Libraries and Exploratory Analysis\n",
    "Imported libraries and data for further analysis."
   ]
  },
  {
   "cell_type": "code",
   "execution_count": null,
   "metadata": {},
   "outputs": [],
   "source": [
    "import pandas as pd\n",
    "import numpy as np\n",
    "import pandas as pd\n",
    "import seaborn as sns\n",
    "import matplotlib.pyplot as plt\n",
    "\n",
    "filepath = \"C:/Users/WALDMJN/OneDrive - Schaeffler/Uni/Data Exploration Project/Pred Maintenance Project/Predictive-Maintenance/Data/predictive_maintenance.csv\"\n",
    "df = pd.read_csv(filepath)\n",
    "df.sample(10)"
   ]
  },
  {
   "cell_type": "code",
   "execution_count": null,
   "metadata": {},
   "outputs": [],
   "source": [
    "df.apply(lambda x: x.nunique())"
   ]
  },
  {
   "cell_type": "markdown",
   "metadata": {},
   "source": [
    "#### Additional Insights:\n",
    "\n",
    "- UDI and Product ID are unique -> it can be removed.\n",
    "- Target is integrated with Failure Type.\n",
    "- 10 000 values, none missing.\n",
    "- 6 different Failure Type's. No Failure (1) + Failure Varieties (5)"
   ]
  },
  {
   "cell_type": "code",
   "execution_count": null,
   "metadata": {},
   "outputs": [],
   "source": [
    "df['Failure Type'].value_counts()"
   ]
  },
  {
   "cell_type": "markdown",
   "metadata": {},
   "source": [
    "#### Descriptive Statistics:\n",
    "\n",
    "- Air Temperature: Ranges from 295.3 K to 304.5 K, with a mean of 300.0 K.\n",
    "- Process Temperature: Ranges from 305.7 K to 313.8 K, with a mean of 310.0 K.\n",
    "- Rotational Speed: Ranges from 1168 to 2886 rpm, with a mean of 1538.8 rpm.\n",
    "- Torque: Ranges from 3.8 to 76.6 Nm, with a mean of 40.0 Nm.\n",
    "- Tool Wear: Ranges from 0 to 253 minutes, with a mean of 108 minutes.\n",
    "- Target: Majority (96.6%) are labeled 0 (No Failure), and 3.4% are labeled 1 (Failure)."
   ]
  },
  {
   "cell_type": "markdown",
   "metadata": {},
   "source": [
    "#### 1.1 ID Columns"
   ]
  },
  {
   "cell_type": "code",
   "execution_count": null,
   "metadata": {},
   "outputs": [],
   "source": [
    "df['Product ID'] = df['Product ID'].apply(lambda x: x[1:])\n",
    "df['Product ID'] = pd.to_numeric(df['Product ID'])\n",
    "\n",
    "# Histogram of ProductID\n",
    "sns.histplot(data=df, x='Product ID', hue='Type')\n",
    "plt.show()"
   ]
  },
  {
   "cell_type": "markdown",
   "metadata": {},
   "source": [
    "UDI appears to be an index number, while Product ID serves as an identification number. Therefore, it can be omitted."
   ]
  },
  {
   "cell_type": "code",
   "execution_count": null,
   "metadata": {},
   "outputs": [],
   "source": [
    "df = df.drop([\"UDI\", \"Product ID\"], axis = 1)\n",
    "df.head()"
   ]
  },
  {
   "cell_type": "markdown",
   "metadata": {},
   "source": [
    "Check for missing values:"
   ]
  },
  {
   "cell_type": "code",
   "execution_count": null,
   "metadata": {},
   "outputs": [],
   "source": [
    "df.isna().sum()"
   ]
  },
  {
   "cell_type": "markdown",
   "metadata": {},
   "source": [
    "#### 1.2 Target anomalies\n",
    "\n",
    "Incosistencies between \"Target\" and \"Failure Type\":"
   ]
  },
  {
   "cell_type": "code",
   "execution_count": null,
   "metadata": {},
   "outputs": [],
   "source": [
    "fail_df = df[df['Target'] == 1]\n",
    "fail_df['Failure Type'].value_counts()"
   ]
  },
  {
   "cell_type": "code",
   "execution_count": null,
   "metadata": {},
   "outputs": [],
   "source": [
    "fail_df[fail_df['Failure Type'] == 'No Failure']"
   ]
  },
  {
   "cell_type": "markdown",
   "metadata": {},
   "source": [
    "9 Datasets have been registered as \"1\" in Column Target even if the Failure Type is \"No Failure\". The 9 entries can be deleted before they interfere with data determination."
   ]
  },
  {
   "cell_type": "code",
   "execution_count": null,
   "metadata": {},
   "outputs": [],
   "source": [
    "indexPossibleFailure = fail_df[fail_df['Failure Type'] == 'No Failure'].index\n",
    "df.drop(indexPossibleFailure, axis=0, inplace=True)"
   ]
  },
  {
   "cell_type": "code",
   "execution_count": null,
   "metadata": {},
   "outputs": [],
   "source": [
    "df.shape[0]"
   ]
  },
  {
   "cell_type": "code",
   "execution_count": null,
   "metadata": {},
   "outputs": [],
   "source": [
    "fail_df  = df[df['Target'] == 0]\n",
    "fail_df ['Failure Type'].value_counts()"
   ]
  },
  {
   "cell_type": "code",
   "execution_count": null,
   "metadata": {},
   "outputs": [],
   "source": [
    "fail_df [fail_df ['Failure Type'] == 'Random Failures']"
   ]
  },
  {
   "cell_type": "markdown",
   "metadata": {},
   "source": [
    "Same for the other direction. 18 Datasets have some \"random failures\" even if they're target is \"0\". "
   ]
  },
  {
   "cell_type": "code",
   "execution_count": null,
   "metadata": {},
   "outputs": [],
   "source": [
    "indexPossibleFailure = fail_df[fail_df['Failure Type'] == 'Random Failures'].index\n",
    "df.drop(indexPossibleFailure, axis=0, inplace=True)\n",
    "df.shape[0]"
   ]
  },
  {
   "cell_type": "markdown",
   "metadata": {},
   "source": [
    "27 instaces were removed (0.27% of the entire dataset). Of which:\n",
    "\n",
    "- 9 belonged to class Failure in 'Target' variable and No failure in target 'Failure Type'\n",
    "- 18 belonged to class No failure in 'Target' variable and Random failures in target 'Failure Type'"
   ]
  },
  {
   "cell_type": "markdown",
   "metadata": {},
   "source": [
    "#### 1.3 Outliers inspection"
   ]
  },
  {
   "cell_type": "code",
   "execution_count": null,
   "metadata": {},
   "outputs": [],
   "source": [
    "df.describe()"
   ]
  },
  {
   "cell_type": "markdown",
   "metadata": {},
   "source": [
    "We can guess the presence of outliers in Rotational Speed and Torque because the maximum is very different from the third quartile. To make this consideration more concrete we take a closer look at the situation with boxplots, using histograms to understand the distribution."
   ]
  },
  {
   "cell_type": "code",
   "execution_count": null,
   "metadata": {},
   "outputs": [],
   "source": [
    "df['Tool wear [min]'] = df['Tool wear [min]'].astype('float64')\n",
    "df['Rotational speed [rpm]'] = df['Rotational speed [rpm]'].astype('float64')\n",
    "\n",
    "features = [col for col in df.columns\n",
    "            if df[col].dtype=='float64' or col =='Type']\n",
    "\n",
    "num_features = [feature for feature in features  if df[feature].dtype=='float64']\n",
    "\n",
    "\n",
    "fig, axs = plt.subplots(nrows=2, ncols=3, figsize=(18,7))\n",
    "fig.suptitle('Numeric features histogram')\n",
    "for j, feature in enumerate(num_features):\n",
    "    sns.histplot(ax=axs[j//3, j-3*(j//3)], data=df, x=feature)\n",
    "plt.show()\n",
    "\n",
    "\n",
    "fig, axs = plt.subplots(nrows=2, ncols=3, figsize=(18,7))\n",
    "fig.suptitle('Numeric features boxplot')\n",
    "for j, feature in enumerate(num_features):\n",
    "    sns.boxplot(ax=axs[j//3, j-3*(j//3)], data=df, x=feature)\n",
    "plt.show()"
   ]
  },
  {
   "cell_type": "markdown",
   "metadata": {},
   "source": [
    "The boxplots highlight possible outliers in the features mentioned above. However, in the case of Torque, these outliers are likely due to the method of detection using boxplots. For Rotational Speed, the Gaussian distribution is skewed, and it is not unrealistic to think that the few observations with high Rotational Speed are likely to fail. "
   ]
  },
  {
   "cell_type": "markdown",
   "metadata": {},
   "source": [
    "#### 1.4 Feature Engineering\n",
    "\n",
    "We include another features such that Power [W], Overstrain [minNm], Heat dissipation [rpminK] with following formulas:\n",
    "\n",
    "- Power W = Nm * ((2 * pi * rpm)/60)\n",
    "- Overstrain minNm = Nm * min\n",
    "- Heat dissipation rpminK = abs(Air Temperature (K) - Process Temperature (K) * rpm)"
   ]
  },
  {
   "cell_type": "code",
   "execution_count": null,
   "metadata": {},
   "outputs": [],
   "source": [
    "df['Power [W]'] = df['Torque [Nm]'] * (2 * np.pi * df['Rotational speed [rpm]'] / 60.0)\n",
    "df['Overstrain [minNm]'] = df['Torque [Nm]'] * df['Tool wear [min]']\n",
    "df['Heat dissipation [rpminK]'] = abs(df['Air temperature [K]'] - df['Process temperature [K]']) * df['Rotational speed [rpm]']\n",
    "\n",
    "df.head(5)"
   ]
  },
  {
   "cell_type": "code",
   "execution_count": null,
   "metadata": {},
   "outputs": [],
   "source": [
    "df[['Power [W]', 'Overstrain [minNm]', 'Heat dissipation [rpminK]']].describe()"
   ]
  },
  {
   "cell_type": "code",
   "execution_count": null,
   "metadata": {},
   "outputs": [],
   "source": [
    "df[['Power [W]', 'Overstrain [minNm]', 'Heat dissipation [rpminK]']].plot.box(subplots=True,\n",
    "                                                                                      figsize=(15,5))\n",
    "plt.suptitle('Machine Failure boxplot')\n",
    "plt.show()"
   ]
  },
  {
   "cell_type": "markdown",
   "metadata": {},
   "source": [
    "- Machine fails if 3500 W < power < 9000 W (the outlier values gets a power failure).\n",
    "- Machine fails if oversstrain > 11,000 minNm (the outlier values gets a overstrain failure).\n",
    "- Machine fails if Heat dissipation < 11,868 rpmK (intlier values get heat dissipation failure)."
   ]
  },
  {
   "cell_type": "code",
   "execution_count": null,
   "metadata": {},
   "outputs": [],
   "source": [
    "filtered_df = df[(df['Tool wear [min]'] >= 150) & (df['Tool wear [min]'] <= 300)]\n",
    "\n",
    "failure_count = filtered_df[filtered_df['Failure Type'] == 'Tool Wear Failure'].groupby(\n",
    "    pd.cut(filtered_df['Tool wear [min]'], bins=np.arange(150, 310, 10), right=False), observed=True).size()\n",
    "\n",
    "most_failures_interval = failure_count.idxmax()\n",
    "most_failures_count = failure_count.max()\n",
    "total_failures_count = filtered_df[filtered_df['Failure Type'] == 'Tool Wear Failure'].shape[0]\n",
    "\n",
    "\n",
    "plt.figure(figsize=(12, 8))\n",
    "plt.hist(filtered_df[filtered_df['Failure Type'] == 'Tool Wear Failure']['Tool wear [min]'], bins=np.arange(150, 310, 10), color='red', alpha=0.7, label='Tool Wear Failures')\n",
    "plt.axvline(filtered_df[filtered_df['Failure Type'] == 'Tool Wear Failure']['Tool wear [min]'].mean(), color='blue', linestyle='dashed', linewidth=2, label='Mean Tool Wear Time')\n",
    "plt.axvline(filtered_df[filtered_df['Failure Type'] == 'Tool Wear Failure']['Tool wear [min]'].median(), color='green', linestyle='dashed', linewidth=2, label='Median Tool Wear Time')\n",
    "plt.xlabel('Tool wear time [min]')\n",
    "plt.ylabel('Number of Failures')\n",
    "plt.title('Distribution of Tool Wear Failures (Filtered Data)')\n",
    "plt.legend()\n",
    "plt.grid(True)\n",
    "plt.show()\n",
    "\n",
    "print(\"Interval with the most failures:\", most_failures_interval)\n",
    "print(\"Number of failures in the most frequent interval:\", most_failures_count)\n",
    "print(\"Total number of tool wear failures:\", total_failures_count)\n"
   ]
  },
  {
   "cell_type": "markdown",
   "metadata": {},
   "source": [
    "- Machine fails if the tool wear [min]: 190 min < tool wear [min] < 260 min (the inlier values gets a tool wear failure).\n",
    "\n",
    "#### 1.5 Relation plotting"
   ]
  },
  {
   "cell_type": "code",
   "execution_count": null,
   "metadata": {},
   "outputs": [],
   "source": [
    "print(df.columns)"
   ]
  },
  {
   "cell_type": "markdown",
   "metadata": {},
   "source": [
    "##### Rotational Speed and Torque"
   ]
  },
  {
   "cell_type": "code",
   "execution_count": null,
   "metadata": {},
   "outputs": [],
   "source": [
    "plt.figure(figsize=(12,5))\n",
    "sns.scatterplot(x='Rotational speed [rpm]', y='Torque [Nm]', hue='Target', alpha=0.85, data=df, palette='inferno', s = 50)\n",
    "plt.show()"
   ]
  },
  {
   "cell_type": "markdown",
   "metadata": {},
   "source": [
    "##### Torque and Tool wear"
   ]
  },
  {
   "cell_type": "code",
   "execution_count": null,
   "metadata": {},
   "outputs": [],
   "source": [
    "plt.figure(figsize=(7,7))\n",
    "sns.scatterplot(x='Torque [Nm]', y='Tool wear [min]', hue='Target', alpha=0.85, data=df, palette='inferno', s = 50)\n",
    "plt.show()"
   ]
  },
  {
   "cell_type": "markdown",
   "metadata": {},
   "source": [
    "##### Torque and Process temperature"
   ]
  },
  {
   "cell_type": "code",
   "execution_count": null,
   "metadata": {},
   "outputs": [],
   "source": [
    "plt.figure(figsize=(7,7))\n",
    "sns.scatterplot(x='Torque [Nm]', y='Process temperature [K]', hue='Target', alpha=0.85, data=df, palette='inferno', s = 50)\n",
    "plt.show()"
   ]
  },
  {
   "cell_type": "markdown",
   "metadata": {},
   "source": [
    "##### Rotational speed and Air temperature"
   ]
  },
  {
   "cell_type": "code",
   "execution_count": null,
   "metadata": {},
   "outputs": [],
   "source": [
    "plt.figure(figsize=(7,7))\n",
    "sns.scatterplot(x='Rotational speed [rpm]', y='Air temperature [K]', hue='Target', alpha=0.85, data=df, palette='inferno', s = 70)\n",
    "plt.show()"
   ]
  },
  {
   "cell_type": "markdown",
   "metadata": {},
   "source": [
    "##### Rotational speed and tool wear"
   ]
  },
  {
   "cell_type": "code",
   "execution_count": null,
   "metadata": {},
   "outputs": [],
   "source": [
    "plt.figure(figsize=(7,7))\n",
    "sns.scatterplot(x='Rotational speed [rpm]', y='Tool wear [min]', hue='Target', alpha=0.85, data=df, palette='inferno', s = 70)\n",
    "plt.show()"
   ]
  },
  {
   "cell_type": "markdown",
   "metadata": {},
   "source": [
    "##### Process temperature and Air temperature"
   ]
  },
  {
   "cell_type": "code",
   "execution_count": null,
   "metadata": {},
   "outputs": [],
   "source": [
    "plt.figure(figsize=(15,10))\n",
    "sns.scatterplot(x='Process temperature [K]', y='Air temperature [K]', hue='Target', alpha=0.90, data=df,s = 100, palette='inferno')\n",
    "plt.show()"
   ]
  },
  {
   "cell_type": "markdown",
   "metadata": {},
   "source": [
    "- Torque and rotational speed are highly correlated.\n",
    "- Process temperature and air temperature are also highly correlated.\n",
    "- It confirms the earlier assumption that torque and rotational speed play a significant role in identifying failures.\n",
    "- There is a range of normal conditions in which the machines operate.\n",
    "- Machines tend to fail when operating above or below this normal range."
   ]
  },
  {
   "cell_type": "markdown",
   "metadata": {},
   "source": [
    "## Correlation Analysis"
   ]
  },
  {
   "cell_type": "code",
   "execution_count": null,
   "metadata": {},
   "outputs": [],
   "source": [
    "numeric_df = df.select_dtypes(include=[np.number])\n",
    "\n",
    "corr_matrix = numeric_df.corr()\n",
    "\n",
    "plt.figure(figsize=(12, 8))\n",
    "sns.heatmap(corr_matrix, annot=True, fmt='.2f', cmap='inferno', vmin=-1, vmax=1)\n",
    "plt.title('Correlation Matrix Heatmap')\n",
    "plt.show()"
   ]
  },
  {
   "cell_type": "markdown",
   "metadata": {},
   "source": [
    "There is a strong correlation between process temperature and air temperature, as well as between rotational speed and torque."
   ]
  },
  {
   "cell_type": "code",
   "execution_count": null,
   "metadata": {},
   "outputs": [],
   "source": []
  }
 ],
 "metadata": {
  "kernelspec": {
   "display_name": "Python 3",
   "language": "python",
   "name": "python3"
  },
  "language_info": {
   "codemirror_mode": {
    "name": "ipython",
    "version": 3
   },
   "file_extension": ".py",
   "mimetype": "text/x-python",
   "name": "python",
   "nbconvert_exporter": "python",
   "pygments_lexer": "ipython3",
   "version": "3.12.3"
  }
 },
 "nbformat": 4,
 "nbformat_minor": 2
}
