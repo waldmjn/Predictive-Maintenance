{
 "cells": [
  {
   "cell_type": "markdown",
   "metadata": {},
   "source": [
    "## Libraries and Data Analysis\n",
    "Imported libraries and data for further analysis."
   ]
  },
  {
   "cell_type": "code",
   "execution_count": null,
   "metadata": {},
   "outputs": [],
   "source": [
    "import pandas as pd\n",
    "import numpy as np\n",
    "import pandas as pd\n",
    "import seaborn as sns\n",
    "import matplotlib.pyplot as plt\n",
    "\n",
    "filepath = \"C:/Users/WALDMJN/OneDrive - Schaeffler/Uni/Data Exploration Project/Pred Maintenance Project/Predictive-Maintenance/Data/predictive_maintenance.csv\"\n",
    "df = pd.read_csv(filepath)\n",
    "df.sample(10)"
   ]
  },
  {
   "cell_type": "code",
   "execution_count": null,
   "metadata": {},
   "outputs": [],
   "source": [
    "df.apply(lambda x: x.nunique())"
   ]
  },
  {
   "cell_type": "markdown",
   "metadata": {},
   "source": [
    "#### Additional Insights:\n",
    "\n",
    "- UDI and Product ID are unique -> it can be removed.\n",
    "- Target is integrated with Failure Type.\n",
    "- 10 000 values, none missing.\n",
    "- 6 different Failure Type's. No Failure (1) + Failure Varieties (5)"
   ]
  },
  {
   "cell_type": "code",
   "execution_count": null,
   "metadata": {},
   "outputs": [],
   "source": [
    "df.describe()"
   ]
  },
  {
   "cell_type": "code",
   "execution_count": null,
   "metadata": {},
   "outputs": [],
   "source": [
    "df['Failure Type'].value_counts()"
   ]
  },
  {
   "cell_type": "markdown",
   "metadata": {},
   "source": [
    "#### Descriptive Statistics:\n",
    "\n",
    "- Air Temperature: Ranges from 295.3 K to 304.5 K, with a mean of 300.0 K.\n",
    "- Process Temperature: Ranges from 305.7 K to 313.8 K, with a mean of 310.0 K.\n",
    "- Rotational Speed: Ranges from 1168 to 2886 rpm, with a mean of 1538.8 rpm.\n",
    "- Torque: Ranges from 3.8 to 76.6 Nm, with a mean of 40.0 Nm.\n",
    "- Tool Wear: Ranges from 0 to 253 minutes, with a mean of 108 minutes.\n",
    "- Target: Majority (96.6%) are labeled 0 (No Failure), and 3.4% are labeled 1 (Failure)."
   ]
  },
  {
   "cell_type": "code",
   "execution_count": null,
   "metadata": {},
   "outputs": [],
   "source": [
    "df['Product ID'] = df['Product ID'].apply(lambda x: x[1:])\n",
    "df['Product ID'] = pd.to_numeric(df['Product ID'])\n",
    "\n",
    "# Histogram of ProductID\n",
    "sns.histplot(data=df, x='Product ID', hue='Type')\n",
    "plt.show()"
   ]
  },
  {
   "cell_type": "markdown",
   "metadata": {},
   "source": [
    "UDI appears to be an index number, while Product ID serves as an identification number. Therefore, it can be omitted."
   ]
  },
  {
   "cell_type": "code",
   "execution_count": null,
   "metadata": {},
   "outputs": [],
   "source": [
    "df = df.drop([\"UDI\", \"Product ID\"], axis = 1)\n",
    "df.head()"
   ]
  },
  {
   "cell_type": "markdown",
   "metadata": {},
   "source": [
    "Check for missing values:"
   ]
  },
  {
   "cell_type": "code",
   "execution_count": null,
   "metadata": {},
   "outputs": [],
   "source": [
    "df.isna().sum()"
   ]
  },
  {
   "cell_type": "markdown",
   "metadata": {},
   "source": [
    "Incosistencies between \"Target\" and \"Failure Type\":"
   ]
  },
  {
   "cell_type": "code",
   "execution_count": null,
   "metadata": {},
   "outputs": [],
   "source": [
    "fail_df = df[df['Target'] == 1]\n",
    "fail_df['Failure Type'].value_counts()"
   ]
  },
  {
   "cell_type": "code",
   "execution_count": null,
   "metadata": {},
   "outputs": [],
   "source": [
    "fail_df[fail_df['Failure Type'] == 'No Failure']"
   ]
  },
  {
   "cell_type": "markdown",
   "metadata": {},
   "source": [
    "9 Datasets have been registered as \"1\" in Column Target even if the Failure Type is \"No Failure\". The 9 entries can be deleted before they interfere with data determination."
   ]
  },
  {
   "cell_type": "code",
   "execution_count": null,
   "metadata": {},
   "outputs": [],
   "source": [
    "indexPossibleFailure = fail_df[fail_df['Failure Type'] == 'No Failure'].index\n",
    "df.drop(indexPossibleFailure, axis=0, inplace=True)"
   ]
  },
  {
   "cell_type": "code",
   "execution_count": null,
   "metadata": {},
   "outputs": [],
   "source": [
    "df.shape[0]"
   ]
  },
  {
   "cell_type": "code",
   "execution_count": null,
   "metadata": {},
   "outputs": [],
   "source": [
    "fail_df  = df[df['Target'] == 0]\n",
    "fail_df ['Failure Type'].value_counts()"
   ]
  },
  {
   "cell_type": "code",
   "execution_count": null,
   "metadata": {},
   "outputs": [],
   "source": [
    "fail_df [fail_df ['Failure Type'] == 'Random Failures']"
   ]
  },
  {
   "cell_type": "markdown",
   "metadata": {},
   "source": [
    "Same for the other direction. 18 Datasets have some \"random failures\" even if they're target is \"0\". "
   ]
  },
  {
   "cell_type": "code",
   "execution_count": null,
   "metadata": {},
   "outputs": [],
   "source": [
    "indexPossibleFailure = fail_df[fail_df['Failure Type'] == 'Random Failures'].index\n",
    "df.drop(indexPossibleFailure, axis=0, inplace=True)\n",
    "df.shape[0]"
   ]
  },
  {
   "cell_type": "markdown",
   "metadata": {},
   "source": [
    "27 instaces were removed (0.27% of the entire dataset). Of which:\n",
    "\n",
    "- 9 belonged to class Failure in 'Target' variable and No failure in target 'Failure Type'\n",
    "- 18 belonged to class No failure in 'Target' variable and Random failures in target 'Failure Type'"
   ]
  },
  {
   "cell_type": "code",
   "execution_count": null,
   "metadata": {},
   "outputs": [],
   "source": []
  }
 ],
 "metadata": {
  "kernelspec": {
   "display_name": "Python 3",
   "language": "python",
   "name": "python3"
  },
  "language_info": {
   "codemirror_mode": {
    "name": "ipython",
    "version": 3
   },
   "file_extension": ".py",
   "mimetype": "text/x-python",
   "name": "python",
   "nbconvert_exporter": "python",
   "pygments_lexer": "ipython3",
   "version": "3.12.3"
  }
 },
 "nbformat": 4,
 "nbformat_minor": 2
}
